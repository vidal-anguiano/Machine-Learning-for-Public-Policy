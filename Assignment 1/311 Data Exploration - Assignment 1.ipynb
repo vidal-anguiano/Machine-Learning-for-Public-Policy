{
 "cells": [
  {
   "cell_type": "code",
   "execution_count": 28,
   "metadata": {},
   "outputs": [
    {
     "name": "stdout",
     "output_type": "stream",
     "text": [
      "The autoreload extension is already loaded. To reload it, use:\n",
      "  %reload_ext autoreload\n"
     ]
    }
   ],
   "source": [
    "%load_ext autoreload\n",
    "%autoreload 2"
   ]
  },
  {
   "cell_type": "code",
   "execution_count": 27,
   "metadata": {},
   "outputs": [
    {
     "data": {
      "text/html": [
       "<script>\n",
       "code_show=true; \n",
       "function code_toggle() {\n",
       " if (code_show){\n",
       " $('div.input').hide();\n",
       " } else {\n",
       " $('div.input').show();\n",
       " }\n",
       " code_show = !code_show\n",
       "} \n",
       "$( document ).ready(code_toggle);\n",
       "</script>\n",
       "<form action=\"javascript:code_toggle()\"><input type=\"submit\" value=\"Click here to toggle on/off the raw code.\"></form>"
      ],
      "text/plain": [
       "<IPython.core.display.HTML object>"
      ]
     },
     "execution_count": 27,
     "metadata": {},
     "output_type": "execute_result"
    }
   ],
   "source": [
    "from IPython.display import HTML\n",
    "\n",
    "HTML('''<script>\n",
    "code_show=true; \n",
    "function code_toggle() {\n",
    " if (code_show){\n",
    " $('div.input').hide();\n",
    " } else {\n",
    " $('div.input').show();\n",
    " }\n",
    " code_show = !code_show\n",
    "} \n",
    "$( document ).ready(code_toggle);\n",
    "</script>\n",
    "<form action=\"javascript:code_toggle()\"><input type=\"submit\" value=\"Click here to toggle on/off the raw code.\"></form>''')\n",
    "\n"
   ]
  },
  {
   "cell_type": "code",
   "execution_count": 29,
   "metadata": {},
   "outputs": [
    {
     "data": {
      "text/html": [
       "<script>requirejs.config({paths: { 'plotly': ['https://cdn.plot.ly/plotly-latest.min']},});if(!window.Plotly) {{require(['plotly'],function(plotly) {window.Plotly=plotly;});}}</script>"
      ],
      "text/vnd.plotly.v1+html": [
       "<script>requirejs.config({paths: { 'plotly': ['https://cdn.plot.ly/plotly-latest.min']},});if(!window.Plotly) {{require(['plotly'],function(plotly) {window.Plotly=plotly;});}}</script>"
      ]
     },
     "metadata": {},
     "output_type": "display_data"
    }
   ],
   "source": [
    "import requests\n",
    "import pandas as pd\n",
    "import config\n",
    "import numpy as np\n",
    "import matplotlib.pyplot as plt\n",
    "import sqlite3\n",
    "from assignment1 import *\n",
    "import re\n",
    "import time\n",
    "from plotly import __version__\n",
    "from plotly.offline import download_plotlyjs, init_notebook_mode, plot, iplot\n",
    "import plotly.graph_objs as go\n",
    "init_notebook_mode(connected=True)\n",
    "client = Socrata(\"data.cityofchicago.org\",config.key)\n",
    "conn = sqlite3.connect('db.db')\n",
    "c = conn.cursor()\n",
    "from pandas import read_sql_query as pq"
   ]
  },
  {
   "cell_type": "markdown",
   "metadata": {},
   "source": [
    "## Scope of Analysis, Summer 2016\n",
    "In the following analyses, we use data from the following datasets, focussing specifically on the months of June, July, and August of 2016:\n",
    "- [311 Graffiti Removal Requests](https://data.cityofchicago.org/Service-Requests/311-Service-Requests-Graffiti-Removal/hec5-y4x5)\n",
    "- [311 Vacant and Abandoned Buildings Requests](https://data.cityofchicago.org/Service-Requests/311-Service-Requests-Vacant-and-Abandoned-Building/7nii-7srd)\n",
    "- [311 Alley Light Out Requests](https://data.cityofchicago.org/Service-Requests/311-Service-Requests-Alley-Lights-Out/t28b-ys7j)\n",
    "- [American Community Survey 2016, US Census](https://www.census.gov/data/developers/data-sets/acs-5year.html)"
   ]
  },
  {
   "cell_type": "markdown",
   "metadata": {},
   "source": [
    "## Initial Data Exploration"
   ]
  },
  {
   "cell_type": "code",
   "execution_count": null,
   "metadata": {},
   "outputs": [],
   "source": []
  },
  {
   "cell_type": "code",
   "execution_count": null,
   "metadata": {},
   "outputs": [],
   "source": []
  },
  {
   "cell_type": "markdown",
   "metadata": {},
   "source": [
    "## Service Request Counts for Summer 2016\n",
    "In June, July, and August of 2016, there were significantly more Graffiti removal requests compared to Alley Light Out and Vacant/Abandoned Buildings Reports. "
   ]
  },
  {
   "cell_type": "code",
   "execution_count": 79,
   "metadata": {},
   "outputs": [
    {
     "data": {
      "application/vnd.plotly.v1+json": {
       "data": [
        {
         "opacity": 1,
         "textposition": "outside",
         "type": "bar",
         "x": [
          "Alley Light Out",
          "Graffiti Removal",
          "Vacant/Abandoned Building"
         ],
         "y": [
          8268,
          31609,
          1465
         ]
        }
       ],
       "layout": {
        "title": "<b>Service Request Type Counts for Summer 2016</b><br>",
        "xaxis": {
         "tickfont": {
          "color": "rgb(107, 107, 107)",
          "size": 14
         },
         "title": "Service Request Type"
        },
        "yaxis": {
         "tickfont": {
          "color": "rgb(107, 107, 107)",
          "size": 14
         },
         "title": "Service Request Type",
         "titlefont": {
          "color": "rgb(107, 107, 107)",
          "size": 16
         }
        }
       }
      },
      "text/html": [
       "<div id=\"eadfd9ec-6a00-4293-8762-a239a091183a\" style=\"height: 525px; width: 100%;\" class=\"plotly-graph-div\"></div><script type=\"text/javascript\">require([\"plotly\"], function(Plotly) { window.PLOTLYENV=window.PLOTLYENV || {};window.PLOTLYENV.BASE_URL=\"https://plot.ly\";Plotly.newPlot(\"eadfd9ec-6a00-4293-8762-a239a091183a\", [{\"type\": \"bar\", \"x\": [\"Alley Light Out\", \"Graffiti Removal\", \"Vacant/Abandoned Building\"], \"y\": [8268, 31609, 1465], \"textposition\": \"outside\", \"opacity\": 1}], {\"title\": \"<b>Service Request Type Counts for Summer 2016</b><br>\", \"xaxis\": {\"title\": \"Service Request Type\", \"tickfont\": {\"size\": 14, \"color\": \"rgb(107, 107, 107)\"}}, \"yaxis\": {\"title\": \"Service Request Type\", \"titlefont\": {\"size\": 16, \"color\": \"rgb(107, 107, 107)\"}, \"tickfont\": {\"size\": 14, \"color\": \"rgb(107, 107, 107)\"}}}, {\"showLink\": true, \"linkText\": \"Export to plot.ly\"})});</script>"
      ],
      "text/vnd.plotly.v1+html": [
       "<div id=\"eadfd9ec-6a00-4293-8762-a239a091183a\" style=\"height: 525px; width: 100%;\" class=\"plotly-graph-div\"></div><script type=\"text/javascript\">require([\"plotly\"], function(Plotly) { window.PLOTLYENV=window.PLOTLYENV || {};window.PLOTLYENV.BASE_URL=\"https://plot.ly\";Plotly.newPlot(\"eadfd9ec-6a00-4293-8762-a239a091183a\", [{\"type\": \"bar\", \"x\": [\"Alley Light Out\", \"Graffiti Removal\", \"Vacant/Abandoned Building\"], \"y\": [8268, 31609, 1465], \"textposition\": \"outside\", \"opacity\": 1}], {\"title\": \"<b>Service Request Type Counts for Summer 2016</b><br>\", \"xaxis\": {\"title\": \"Service Request Type\", \"tickfont\": {\"size\": 14, \"color\": \"rgb(107, 107, 107)\"}}, \"yaxis\": {\"title\": \"Service Request Type\", \"titlefont\": {\"size\": 16, \"color\": \"rgb(107, 107, 107)\"}, \"tickfont\": {\"size\": 14, \"color\": \"rgb(107, 107, 107)\"}}}, {\"showLink\": true, \"linkText\": \"Export to plot.ly\"})});</script>"
      ]
     },
     "metadata": {},
     "output_type": "display_data"
    }
   ],
   "source": [
    "barplot(pd.read_sql_query('''\n",
    "SELECT type_of_service_request,\n",
    "COUNT(DISTINCT service_request_number) as Count\n",
    "FROM combined_data\n",
    "GROUP BY type_of_service_request\n",
    ";''',conn),\n",
    "x = 'type_of_service_request',\n",
    "y = 'Count', \n",
    "xlabel = 'Service Request Type', \n",
    "ylabel ='Service Request Type', \n",
    "title = \"Service Request Type Counts for Summer 2016\")"
   ]
  },
  {
   "cell_type": "markdown",
   "metadata": {},
   "source": [
    "## Service Requests by Month\n",
    "There were more service requests in August 2016 across these three categories compared to June and July."
   ]
  },
  {
   "cell_type": "code",
   "execution_count": 52,
   "metadata": {},
   "outputs": [
    {
     "data": {
      "application/vnd.plotly.v1+json": {
       "data": [
        {
         "name": "Alley Light Out",
         "type": "bar",
         "x": [
          "June 2016",
          "July 2016",
          "August 2016"
         ],
         "y": [
          2510,
          2416,
          3342
         ]
        },
        {
         "name": "Graffiti Removal",
         "type": "bar",
         "x": [
          "June 2016",
          "July 2016",
          "August 2016"
         ],
         "y": [
          10337,
          9427,
          11845
         ]
        },
        {
         "name": "Vacant/Abandoned Building",
         "type": "bar",
         "x": [
          "June 2016",
          "July 2016",
          "August 2016"
         ],
         "y": [
          510,
          439,
          516
         ]
        }
       ],
       "layout": {
        "barmode": "stack",
        "title": "<b>Service Requests by Month</b><br>",
        "xaxis": {
         "tickfont": {
          "color": "rgb(107, 107, 107)",
          "size": 14
         },
         "title": "Month"
        },
        "yaxis": {
         "tickfont": {
          "color": "rgb(107, 107, 107)",
          "size": 14
         },
         "title": "Service Request Count",
         "titlefont": {
          "color": "rgb(107, 107, 107)",
          "size": 16
         }
        }
       }
      },
      "text/html": [
       "<div id=\"4a417ba6-083b-45b4-afbd-41be66aeb9c7\" style=\"height: 525px; width: 100%;\" class=\"plotly-graph-div\"></div><script type=\"text/javascript\">require([\"plotly\"], function(Plotly) { window.PLOTLYENV=window.PLOTLYENV || {};window.PLOTLYENV.BASE_URL=\"https://plot.ly\";Plotly.newPlot(\"4a417ba6-083b-45b4-afbd-41be66aeb9c7\", [{\"type\": \"bar\", \"x\": [\"June 2016\", \"July 2016\", \"August 2016\"], \"y\": [2510, 2416, 3342], \"name\": \"Alley Light Out\"}, {\"type\": \"bar\", \"x\": [\"June 2016\", \"July 2016\", \"August 2016\"], \"y\": [10337, 9427, 11845], \"name\": \"Graffiti Removal\"}, {\"type\": \"bar\", \"x\": [\"June 2016\", \"July 2016\", \"August 2016\"], \"y\": [510, 439, 516], \"name\": \"Vacant/Abandoned Building\"}], {\"barmode\": \"stack\", \"title\": \"<b>Service Requests by Month</b><br>\", \"xaxis\": {\"title\": \"Month\", \"tickfont\": {\"size\": 14, \"color\": \"rgb(107, 107, 107)\"}}, \"yaxis\": {\"title\": \"Service Request Count\", \"titlefont\": {\"size\": 16, \"color\": \"rgb(107, 107, 107)\"}, \"tickfont\": {\"size\": 14, \"color\": \"rgb(107, 107, 107)\"}}}, {\"showLink\": true, \"linkText\": \"Export to plot.ly\"})});</script>"
      ],
      "text/vnd.plotly.v1+html": [
       "<div id=\"4a417ba6-083b-45b4-afbd-41be66aeb9c7\" style=\"height: 525px; width: 100%;\" class=\"plotly-graph-div\"></div><script type=\"text/javascript\">require([\"plotly\"], function(Plotly) { window.PLOTLYENV=window.PLOTLYENV || {};window.PLOTLYENV.BASE_URL=\"https://plot.ly\";Plotly.newPlot(\"4a417ba6-083b-45b4-afbd-41be66aeb9c7\", [{\"type\": \"bar\", \"x\": [\"June 2016\", \"July 2016\", \"August 2016\"], \"y\": [2510, 2416, 3342], \"name\": \"Alley Light Out\"}, {\"type\": \"bar\", \"x\": [\"June 2016\", \"July 2016\", \"August 2016\"], \"y\": [10337, 9427, 11845], \"name\": \"Graffiti Removal\"}, {\"type\": \"bar\", \"x\": [\"June 2016\", \"July 2016\", \"August 2016\"], \"y\": [510, 439, 516], \"name\": \"Vacant/Abandoned Building\"}], {\"barmode\": \"stack\", \"title\": \"<b>Service Requests by Month</b><br>\", \"xaxis\": {\"title\": \"Month\", \"tickfont\": {\"size\": 14, \"color\": \"rgb(107, 107, 107)\"}}, \"yaxis\": {\"title\": \"Service Request Count\", \"titlefont\": {\"size\": 16, \"color\": \"rgb(107, 107, 107)\"}, \"tickfont\": {\"size\": 14, \"color\": \"rgb(107, 107, 107)\"}}}, {\"showLink\": true, \"linkText\": \"Export to plot.ly\"})});</script>"
      ]
     },
     "metadata": {},
     "output_type": "display_data"
    }
   ],
   "source": [
    "r = pq('''\n",
    "SELECT type_of_service_request, strftime('%m',creation_date) as month,\n",
    "COUNT(DISTINCT service_request_number) as Count\n",
    "FROM combined_data\n",
    "GROUP BY type_of_service_request, month''', conn)\n",
    "trace1 = go.Bar(\n",
    "    x=['June 2016', 'July 2016', 'August 2016'],\n",
    "    y=list(r.Count[r.type_of_service_request == 'Alley Light Out']),\n",
    "    name='Alley Light Out'\n",
    ")\n",
    "trace2 = go.Bar(\n",
    "    x=['June 2016', 'July 2016', 'August 2016'],\n",
    "    y=list(r.Count[r.type_of_service_request == 'Graffiti Removal']),\n",
    "    name='Graffiti Removal'\n",
    ")\n",
    "trace3 = go.Bar(\n",
    "    x=['June 2016', 'July 2016', 'August 2016'],\n",
    "    y=list(r.Count[r.type_of_service_request == 'Vacant/Abandoned Building']),\n",
    "    name='Vacant/Abandoned Building'\n",
    ")\n",
    "\n",
    "data = [trace1, trace2, trace3]\n",
    "layout = go.Layout(\n",
    "    barmode='stack',\n",
    "    title='<b>Service Requests by Month</b><br>',\n",
    "             xaxis=dict(\n",
    "                title= 'Month',\n",
    "                tickfont=dict(\n",
    "                    size=14,\n",
    "                    color='rgb(107, 107, 107)'\n",
    "                )\n",
    "             ),\n",
    "             yaxis=dict(\n",
    "                title='Service Request Count',\n",
    "                titlefont=dict(\n",
    "                    size=16,\n",
    "                    color='rgb(107, 107, 107)'\n",
    "                ),\n",
    "                tickfont=dict(\n",
    "                    size=14,\n",
    "                    color='rgb(107, 107, 107)'\n",
    "                )\n",
    "             ),\n",
    "            )\n",
    "\n",
    "fig = go.Figure(data=data, layout=layout)\n",
    "iplot(fig, filename='stacked-bar')"
   ]
  },
  {
   "cell_type": "code",
   "execution_count": 78,
   "metadata": {},
   "outputs": [
    {
     "data": {
      "text/html": [
       "<script>requirejs.config({paths: { 'plotly': ['https://cdn.plot.ly/plotly-latest.min']},});if(!window.Plotly) {{require(['plotly'],function(plotly) {window.Plotly=plotly;});}}</script>"
      ],
      "text/vnd.plotly.v1+html": [
       "<script>requirejs.config({paths: { 'plotly': ['https://cdn.plot.ly/plotly-latest.min']},});if(!window.Plotly) {{require(['plotly'],function(plotly) {window.Plotly=plotly;});}}</script>"
      ]
     },
     "metadata": {},
     "output_type": "display_data"
    },
    {
     "data": {
      "application/vnd.plotly.v1+json": {
       "data": [
        {
         "opacity": 1,
         "textposition": "outside",
         "type": "bar",
         "x": [
          "West Town",
          "Logan Square",
          "Avondale",
          "Brighton Park",
          "North Center",
          "Lake View",
          "South Lawndale",
          "Lower West Side",
          "Gage Park",
          "Irving Park",
          "Lincoln Square",
          "Belmont Cragin ",
          "McKinley Park",
          "Albany Park",
          "West Ridge",
          "Ashburn",
          "Humboldt Park",
          "West Lawn",
          "New City",
          "West Elsdon",
          "Lincoln Park",
          "Chicago Lawn",
          "Near West Side",
          "Portage Park",
          "Archer Heights",
          "Austin",
          "Garfield Ridge",
          "Loop ",
          "South Chicago",
          "Bridgeport",
          "Roseland",
          "Hermosa",
          "North Park",
          "Auburn Gresham",
          "Uptown",
          "Rogers Park",
          "West Englewood",
          "Near North Side",
          "West Pullman",
          "Edgewater",
          "Dunning",
          "Clearing",
          "South Shore",
          "Englewood",
          "East Side",
          "Washington Heights",
          "Greater Grand Crossing",
          "North Lawndale",
          "Norwood Park",
          "Armour Square",
          "Chatham",
          "Morgan Park",
          "Woodlawn",
          "West Garfield Park",
          "Jefferson Park",
          "Near South Side",
          "Calumet Heights",
          "East Garfield Park",
          "Montclare",
          "Hegewisch",
          "South Deering",
          "Forest Glen ",
          "Avalon Park",
          "Beverly",
          "Grand Boulevard",
          "Mount Greenwood",
          "Edison Park",
          "Hyde Park",
          "O’Hare",
          "Kenwood ",
          "Burnside",
          "Pullman ",
          "Washington Park",
          "Douglas",
          "Fuller Park ",
          "Riverdale",
          "Oakland"
         ],
         "y": [
          2763,
          2312,
          1765,
          1519,
          1367,
          1329,
          1294,
          1263,
          1253,
          1189,
          1159,
          1141,
          993,
          970,
          963,
          896,
          885,
          862,
          849,
          827,
          824,
          812,
          720,
          701,
          676,
          618,
          566,
          530,
          523,
          484,
          478,
          474,
          460,
          454,
          436,
          415,
          399,
          398,
          397,
          389,
          342,
          292,
          277,
          270,
          266,
          237,
          222,
          221,
          211,
          194,
          184,
          173,
          158,
          136,
          134,
          125,
          121,
          118,
          117,
          111,
          105,
          100,
          96,
          89,
          87,
          83,
          62,
          60,
          60,
          59,
          58,
          56,
          56,
          39,
          36,
          16,
          6
         ]
        }
       ],
       "layout": {
        "title": "<b>Service Requests by Community Area</b><br>",
        "xaxis": {
         "tickfont": {
          "color": "rgb(107, 107, 107)",
          "size": 9
         },
         "title": "Community Area"
        },
        "yaxis": {
         "tickfont": {
          "color": "rgb(107, 107, 107)",
          "size": 14
         },
         "title": "Service Request Count",
         "titlefont": {
          "color": "rgb(107, 107, 107)",
          "size": 16
         }
        }
       }
      },
      "text/html": [
       "<div id=\"dcd10bd6-fb13-43c4-89df-426b9788b88e\" style=\"height: 525px; width: 100%;\" class=\"plotly-graph-div\"></div><script type=\"text/javascript\">require([\"plotly\"], function(Plotly) { window.PLOTLYENV=window.PLOTLYENV || {};window.PLOTLYENV.BASE_URL=\"https://plot.ly\";Plotly.newPlot(\"dcd10bd6-fb13-43c4-89df-426b9788b88e\", [{\"type\": \"bar\", \"x\": [\"West Town\", \"Logan Square\", \"Avondale\", \"Brighton Park\", \"North Center\", \"Lake View\", \"South Lawndale\", \"Lower West Side\", \"Gage Park\", \"Irving Park\", \"Lincoln Square\", \"Belmont Cragin \", \"McKinley Park\", \"Albany Park\", \"West Ridge\", \"Ashburn\", \"Humboldt Park\", \"West Lawn\", \"New City\", \"West Elsdon\", \"Lincoln Park\", \"Chicago Lawn\", \"Near West Side\", \"Portage Park\", \"Archer Heights\", \"Austin\", \"Garfield Ridge\", \"Loop \", \"South Chicago\", \"Bridgeport\", \"Roseland\", \"Hermosa\", \"North Park\", \"Auburn Gresham\", \"Uptown\", \"Rogers Park\", \"West Englewood\", \"Near North Side\", \"West Pullman\", \"Edgewater\", \"Dunning\", \"Clearing\", \"South Shore\", \"Englewood\", \"East Side\", \"Washington Heights\", \"Greater Grand Crossing\", \"North Lawndale\", \"Norwood Park\", \"Armour Square\", \"Chatham\", \"Morgan Park\", \"Woodlawn\", \"West Garfield Park\", \"Jefferson Park\", \"Near South Side\", \"Calumet Heights\", \"East Garfield Park\", \"Montclare\", \"Hegewisch\", \"South Deering\", \"Forest Glen \", \"Avalon Park\", \"Beverly\", \"Grand Boulevard\", \"Mount Greenwood\", \"Edison Park\", \"Hyde Park\", \"O\\u2019Hare\", \"Kenwood \", \"Burnside\", \"Pullman \", \"Washington Park\", \"Douglas\", \"Fuller Park \", \"Riverdale\", \"Oakland\"], \"y\": [2763, 2312, 1765, 1519, 1367, 1329, 1294, 1263, 1253, 1189, 1159, 1141, 993, 970, 963, 896, 885, 862, 849, 827, 824, 812, 720, 701, 676, 618, 566, 530, 523, 484, 478, 474, 460, 454, 436, 415, 399, 398, 397, 389, 342, 292, 277, 270, 266, 237, 222, 221, 211, 194, 184, 173, 158, 136, 134, 125, 121, 118, 117, 111, 105, 100, 96, 89, 87, 83, 62, 60, 60, 59, 58, 56, 56, 39, 36, 16, 6], \"textposition\": \"outside\", \"opacity\": 1}], {\"title\": \"<b>Service Requests by Community Area</b><br>\", \"xaxis\": {\"title\": \"Community Area\", \"tickfont\": {\"size\": 9, \"color\": \"rgb(107, 107, 107)\"}}, \"yaxis\": {\"title\": \"Service Request Count\", \"titlefont\": {\"size\": 16, \"color\": \"rgb(107, 107, 107)\"}, \"tickfont\": {\"size\": 14, \"color\": \"rgb(107, 107, 107)\"}}}, {\"showLink\": true, \"linkText\": \"Export to plot.ly\"})});</script>"
      ],
      "text/vnd.plotly.v1+html": [
       "<div id=\"dcd10bd6-fb13-43c4-89df-426b9788b88e\" style=\"height: 525px; width: 100%;\" class=\"plotly-graph-div\"></div><script type=\"text/javascript\">require([\"plotly\"], function(Plotly) { window.PLOTLYENV=window.PLOTLYENV || {};window.PLOTLYENV.BASE_URL=\"https://plot.ly\";Plotly.newPlot(\"dcd10bd6-fb13-43c4-89df-426b9788b88e\", [{\"type\": \"bar\", \"x\": [\"West Town\", \"Logan Square\", \"Avondale\", \"Brighton Park\", \"North Center\", \"Lake View\", \"South Lawndale\", \"Lower West Side\", \"Gage Park\", \"Irving Park\", \"Lincoln Square\", \"Belmont Cragin \", \"McKinley Park\", \"Albany Park\", \"West Ridge\", \"Ashburn\", \"Humboldt Park\", \"West Lawn\", \"New City\", \"West Elsdon\", \"Lincoln Park\", \"Chicago Lawn\", \"Near West Side\", \"Portage Park\", \"Archer Heights\", \"Austin\", \"Garfield Ridge\", \"Loop \", \"South Chicago\", \"Bridgeport\", \"Roseland\", \"Hermosa\", \"North Park\", \"Auburn Gresham\", \"Uptown\", \"Rogers Park\", \"West Englewood\", \"Near North Side\", \"West Pullman\", \"Edgewater\", \"Dunning\", \"Clearing\", \"South Shore\", \"Englewood\", \"East Side\", \"Washington Heights\", \"Greater Grand Crossing\", \"North Lawndale\", \"Norwood Park\", \"Armour Square\", \"Chatham\", \"Morgan Park\", \"Woodlawn\", \"West Garfield Park\", \"Jefferson Park\", \"Near South Side\", \"Calumet Heights\", \"East Garfield Park\", \"Montclare\", \"Hegewisch\", \"South Deering\", \"Forest Glen \", \"Avalon Park\", \"Beverly\", \"Grand Boulevard\", \"Mount Greenwood\", \"Edison Park\", \"Hyde Park\", \"O\\u2019Hare\", \"Kenwood \", \"Burnside\", \"Pullman \", \"Washington Park\", \"Douglas\", \"Fuller Park \", \"Riverdale\", \"Oakland\"], \"y\": [2763, 2312, 1765, 1519, 1367, 1329, 1294, 1263, 1253, 1189, 1159, 1141, 993, 970, 963, 896, 885, 862, 849, 827, 824, 812, 720, 701, 676, 618, 566, 530, 523, 484, 478, 474, 460, 454, 436, 415, 399, 398, 397, 389, 342, 292, 277, 270, 266, 237, 222, 221, 211, 194, 184, 173, 158, 136, 134, 125, 121, 118, 117, 111, 105, 100, 96, 89, 87, 83, 62, 60, 60, 59, 58, 56, 56, 39, 36, 16, 6], \"textposition\": \"outside\", \"opacity\": 1}], {\"title\": \"<b>Service Requests by Community Area</b><br>\", \"xaxis\": {\"title\": \"Community Area\", \"tickfont\": {\"size\": 9, \"color\": \"rgb(107, 107, 107)\"}}, \"yaxis\": {\"title\": \"Service Request Count\", \"titlefont\": {\"size\": 16, \"color\": \"rgb(107, 107, 107)\"}, \"tickfont\": {\"size\": 14, \"color\": \"rgb(107, 107, 107)\"}}}, {\"showLink\": true, \"linkText\": \"Export to plot.ly\"})});</script>"
      ]
     },
     "metadata": {},
     "output_type": "display_data"
    }
   ],
   "source": [
    "barplot(pq('''\n",
    "SELECT b.name as community,\n",
    "COUNT(DISTINCT service_request_number) as Count\n",
    "FROM combined_data a\n",
    "JOIN community_areas b\n",
    "on a.community_area = b.community_area\n",
    "GROUP BY community\n",
    "ORDER BY 2 DESC''', conn),\n",
    "x = 'community',\n",
    "y = 'Count',\n",
    "xlabel = 'Community Area',\n",
    "ylabel = 'Service Request Count',\n",
    "title = 'Service Requests by Community Area',\n",
    "xsize = 9)"
   ]
  },
  {
   "cell_type": "code",
   "execution_count": null,
   "metadata": {},
   "outputs": [],
   "source": []
  }
 ],
 "metadata": {
  "kernelspec": {
   "display_name": "Python 3",
   "language": "python",
   "name": "python3"
  },
  "language_info": {
   "codemirror_mode": {
    "name": "ipython",
    "version": 3
   },
   "file_extension": ".py",
   "mimetype": "text/x-python",
   "name": "python",
   "nbconvert_exporter": "python",
   "pygments_lexer": "ipython3",
   "version": "3.6.3"
  }
 },
 "nbformat": 4,
 "nbformat_minor": 2
}
