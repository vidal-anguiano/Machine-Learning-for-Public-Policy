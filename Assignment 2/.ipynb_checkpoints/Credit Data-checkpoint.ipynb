{
 "cells": [
  {
   "cell_type": "code",
   "execution_count": 1,
   "metadata": {},
   "outputs": [],
   "source": [
    "%load_ext autoreload\n",
    "%autoreload 2"
   ]
  },
  {
   "cell_type": "code",
   "execution_count": 13,
   "metadata": {},
   "outputs": [],
   "source": [
    "import vatools\n",
    "import pandas_profiling\n",
    "import math\n",
    "import pandas as pd\n",
    "from vatools.src.db_conn import db_connection\n",
    "from vatools.src.model import Tree\n",
    "from vatools.src.dataset import DataSet\n",
    "from pandas_profiling import ProfileReport as profile"
   ]
  },
  {
   "cell_type": "code",
   "execution_count": 14,
   "metadata": {
    "scrolled": true
   },
   "outputs": [],
   "source": [
    "data = DataSet('credit','parameters.json')"
   ]
  },
  {
   "cell_type": "code",
   "execution_count": null,
   "metadata": {
    "scrolled": true
   },
   "outputs": [],
   "source": [
    "profile((data.data),correlation_threshold=1)"
   ]
  },
  {
   "cell_type": "code",
   "execution_count": 15,
   "metadata": {
    "scrolled": true
   },
   "outputs": [
    {
     "data": {
      "text/html": [
       "<div>\n",
       "<style scoped>\n",
       "    .dataframe tbody tr th:only-of-type {\n",
       "        vertical-align: middle;\n",
       "    }\n",
       "\n",
       "    .dataframe tbody tr th {\n",
       "        vertical-align: top;\n",
       "    }\n",
       "\n",
       "    .dataframe thead th {\n",
       "        text-align: right;\n",
       "    }\n",
       "</style>\n",
       "<table border=\"1\" class=\"dataframe\">\n",
       "  <thead>\n",
       "    <tr style=\"text-align: right;\">\n",
       "      <th></th>\n",
       "      <th>seriousdlqin2yrs</th>\n",
       "      <th>personid</th>\n",
       "      <th>revolvingutilizationofunsecuredlines</th>\n",
       "      <th>age</th>\n",
       "      <th>zipcode</th>\n",
       "      <th>numberoftime30_59dayspastduenotworse</th>\n",
       "      <th>debtratio</th>\n",
       "      <th>monthlyincome</th>\n",
       "      <th>numberofopencreditlinesandloans</th>\n",
       "      <th>numberoftimes90dayslate</th>\n",
       "      <th>numberrealestateloansorlines</th>\n",
       "      <th>numberoftime60_89dayspastduenotworse</th>\n",
       "      <th>numberofdependents</th>\n",
       "      <th>monthlyincome_imputed</th>\n",
       "      <th>numberofdependents_imputed</th>\n",
       "    </tr>\n",
       "  </thead>\n",
       "  <tbody>\n",
       "    <tr>\n",
       "      <th>0</th>\n",
       "      <td>0</td>\n",
       "      <td>148956</td>\n",
       "      <td>0.003502</td>\n",
       "      <td>77</td>\n",
       "      <td>60637</td>\n",
       "      <td>0</td>\n",
       "      <td>16.000000</td>\n",
       "      <td>NaN</td>\n",
       "      <td>7</td>\n",
       "      <td>0</td>\n",
       "      <td>0</td>\n",
       "      <td>0</td>\n",
       "      <td>0.0</td>\n",
       "      <td>6499</td>\n",
       "      <td>0</td>\n",
       "    </tr>\n",
       "    <tr>\n",
       "      <th>1</th>\n",
       "      <td>0</td>\n",
       "      <td>140750</td>\n",
       "      <td>0.591082</td>\n",
       "      <td>39</td>\n",
       "      <td>60618</td>\n",
       "      <td>1</td>\n",
       "      <td>0.460273</td>\n",
       "      <td>4983.0</td>\n",
       "      <td>6</td>\n",
       "      <td>0</td>\n",
       "      <td>1</td>\n",
       "      <td>0</td>\n",
       "      <td>3.0</td>\n",
       "      <td>4983</td>\n",
       "      <td>3</td>\n",
       "    </tr>\n",
       "    <tr>\n",
       "      <th>2</th>\n",
       "      <td>0</td>\n",
       "      <td>103339</td>\n",
       "      <td>0.760519</td>\n",
       "      <td>66</td>\n",
       "      <td>60625</td>\n",
       "      <td>0</td>\n",
       "      <td>0.631963</td>\n",
       "      <td>3841.0</td>\n",
       "      <td>8</td>\n",
       "      <td>0</td>\n",
       "      <td>0</td>\n",
       "      <td>0</td>\n",
       "      <td>0.0</td>\n",
       "      <td>3841</td>\n",
       "      <td>0</td>\n",
       "    </tr>\n",
       "    <tr>\n",
       "      <th>3</th>\n",
       "      <td>0</td>\n",
       "      <td>107309</td>\n",
       "      <td>0.003466</td>\n",
       "      <td>86</td>\n",
       "      <td>60625</td>\n",
       "      <td>1</td>\n",
       "      <td>2192.000000</td>\n",
       "      <td>NaN</td>\n",
       "      <td>15</td>\n",
       "      <td>0</td>\n",
       "      <td>1</td>\n",
       "      <td>0</td>\n",
       "      <td>0.0</td>\n",
       "      <td>6499</td>\n",
       "      <td>0</td>\n",
       "    </tr>\n",
       "    <tr>\n",
       "      <th>4</th>\n",
       "      <td>0</td>\n",
       "      <td>138688</td>\n",
       "      <td>0.000000</td>\n",
       "      <td>59</td>\n",
       "      <td>60637</td>\n",
       "      <td>0</td>\n",
       "      <td>0.902864</td>\n",
       "      <td>802.0</td>\n",
       "      <td>3</td>\n",
       "      <td>0</td>\n",
       "      <td>1</td>\n",
       "      <td>0</td>\n",
       "      <td>0.0</td>\n",
       "      <td>802</td>\n",
       "      <td>0</td>\n",
       "    </tr>\n",
       "  </tbody>\n",
       "</table>\n",
       "</div>"
      ],
      "text/plain": [
       "   seriousdlqin2yrs  personid  revolvingutilizationofunsecuredlines  age  \\\n",
       "0                 0    148956                              0.003502   77   \n",
       "1                 0    140750                              0.591082   39   \n",
       "2                 0    103339                              0.760519   66   \n",
       "3                 0    107309                              0.003466   86   \n",
       "4                 0    138688                              0.000000   59   \n",
       "\n",
       "   zipcode  numberoftime30_59dayspastduenotworse    debtratio  monthlyincome  \\\n",
       "0    60637                                     0    16.000000            NaN   \n",
       "1    60618                                     1     0.460273         4983.0   \n",
       "2    60625                                     0     0.631963         3841.0   \n",
       "3    60625                                     1  2192.000000            NaN   \n",
       "4    60637                                     0     0.902864          802.0   \n",
       "\n",
       "   numberofopencreditlinesandloans  numberoftimes90dayslate  \\\n",
       "0                                7                        0   \n",
       "1                                6                        0   \n",
       "2                                8                        0   \n",
       "3                               15                        0   \n",
       "4                                3                        0   \n",
       "\n",
       "   numberrealestateloansorlines  numberoftime60_89dayspastduenotworse  \\\n",
       "0                             0                                     0   \n",
       "1                             1                                     0   \n",
       "2                             0                                     0   \n",
       "3                             1                                     0   \n",
       "4                             1                                     0   \n",
       "\n",
       "   numberofdependents  monthlyincome_imputed  numberofdependents_imputed  \n",
       "0                 0.0                   6499                           0  \n",
       "1                 3.0                   4983                           3  \n",
       "2                 0.0                   3841                           0  \n",
       "3                 0.0                   6499                           0  \n",
       "4                 0.0                    802                           0  "
      ]
     },
     "execution_count": 15,
     "metadata": {},
     "output_type": "execute_result"
    }
   ],
   "source": [
    "data.impute(data.train_set)\n",
    "data.impute(data.test_set)"
   ]
  },
  {
   "cell_type": "code",
   "execution_count": 16,
   "metadata": {
    "scrolled": false
   },
   "outputs": [
    {
     "data": {
      "text/plain": [
       "Index(['seriousdlqin2yrs', 'personid', 'revolvingutilizationofunsecuredlines',\n",
       "       'age', 'zipcode', 'numberoftime30_59dayspastduenotworse', 'debtratio',\n",
       "       'monthlyincome', 'numberofopencreditlinesandloans',\n",
       "       'numberoftimes90dayslate', 'numberrealestateloansorlines',\n",
       "       'numberoftime60_89dayspastduenotworse', 'numberofdependents',\n",
       "       'monthlyincome_imputed', 'numberofdependents_imputed'],\n",
       "      dtype='object')"
      ]
     },
     "execution_count": 16,
     "metadata": {},
     "output_type": "execute_result"
    }
   ],
   "source": [
    "data.train_set.columns"
   ]
  },
  {
   "cell_type": "code",
   "execution_count": 91,
   "metadata": {
    "scrolled": false
   },
   "outputs": [
    {
     "name": "stdout",
     "output_type": "stream",
     "text": [
      "X[0] is revolvingutilizationofunsecuredlines\n",
      "X[1] is age\n",
      "\n"
     ]
    },
    {
     "data": {
      "image/png": "[encoded data removed]",
      "text/plain": [
       "<IPython.core.display.Image object>"
      ]
     },
     "execution_count": 91,
     "metadata": {},
     "output_type": "execute_result"
    }
   ],
   "source": [
    "tree = Tree(data,[1,2],max_depth=2)\n",
    "tree.visualize()"
   ]
  },
  {
   "cell_type": "code",
   "execution_count": 92,
   "metadata": {},
   "outputs": [
    {
     "name": "stdout",
     "output_type": "stream",
     "text": [
      "1 = personid\n",
      "2 = revolvingutilizationofunsecuredlines\n",
      "3 = age\n",
      "4 = zipcode\n",
      "5 = numberoftime30_59dayspastduenotworse\n",
      "6 = debtratio\n",
      "7 = monthlyincome\n",
      "8 = numberofopencreditlinesandloans\n",
      "9 = numberoftimes90dayslate\n",
      "10 = numberrealestateloansorlines\n",
      "11 = numberoftime60_89dayspastduenotworse\n",
      "12 = numberofdependents\n",
      "13 = monthlyincome_imputed\n",
      "14 = numberofdependents_imputed\n"
     ]
    }
   ],
   "source": [
    "data.feature_key()"
   ]
  },
  {
   "cell_type": "code",
   "execution_count": 93,
   "metadata": {},
   "outputs": [
    {
     "data": {
      "text/plain": [
       "Index(['personid', 'revolvingutilizationofunsecuredlines'], dtype='object')"
      ]
     },
     "execution_count": 93,
     "metadata": {},
     "output_type": "execute_result"
    }
   ],
   "source": [
    "tree.features_train.columns"
   ]
  },
  {
   "cell_type": "code",
   "execution_count": null,
   "metadata": {},
   "outputs": [],
   "source": [
    "id(d1)"
   ]
  },
  {
   "cell_type": "code",
   "execution_count": null,
   "metadata": {},
   "outputs": [],
   "source": [
    "id(data)"
   ]
  },
  {
   "cell_type": "code",
   "execution_count": null,
   "metadata": {},
   "outputs": [],
   "source": [
    "j = data.data"
   ]
  },
  {
   "cell_type": "code",
   "execution_count": null,
   "metadata": {},
   "outputs": [],
   "source": [
    "data.impute(data.train_set)\n",
    "data.impute(data.test_set)"
   ]
  },
  {
   "cell_type": "code",
   "execution_count": null,
   "metadata": {},
   "outputs": [],
   "source": []
  }
 ],
 "metadata": {
  "kernelspec": {
   "display_name": "Python 3",
   "language": "python",
   "name": "python3"
  },
  "language_info": {
   "codemirror_mode": {
    "name": "ipython",
    "version": 3
   },
   "file_extension": ".py",
   "mimetype": "text/x-python",
   "name": "python",
   "nbconvert_exporter": "python",
   "pygments_lexer": "ipython3",
   "version": "3.6.3"
  }
 },
 "nbformat": 4,
 "nbformat_minor": 2
}
